{
 "cells": [
  {
   "cell_type": "code",
   "execution_count": null,
   "metadata": {
    "collapsed": true
   },
   "outputs": [],
   "source": [
    "import pickle"
   ]
  },
  {
   "cell_type": "code",
   "execution_count": null,
   "metadata": {
    "collapsed": true
   },
   "outputs": [],
   "source": [
    "x = []\n",
    "y = []"
   ]
  },
  {
   "cell_type": "code",
   "execution_count": null,
   "metadata": {
    "collapsed": true
   },
   "outputs": [],
   "source": [
    "import numpy as np\n",
    "def flatten(d):    \n",
    "    res = []  # Result list\n",
    "    if isinstance(d, dict):\n",
    "        for key, val in d.items():\n",
    "            if key == 'controller' or key == 'action_counter':\n",
    "                pass\n",
    "            res.extend(flatten(val))\n",
    "    elif isinstance(d, list):\n",
    "        for i in d:\n",
    "            if isinstance(i, dict):\n",
    "                res.extend(flatten(i))\n",
    "            else:\n",
    "                res.extend(i)\n",
    "    elif isinstance(d, np.ndarray):\n",
    "        d = d.tolist()     \n",
    "        for i in d:\n",
    "            if isinstance(i, dict):\n",
    "                res.extend(flatten(i))\n",
    "            else:\n",
    "                res.append(i)\n",
    "    else:\n",
    "        raise TypeError(\"Undefined type for flatten: %s\"%type(d))\n",
    "\n",
    "    return res\n",
    "\n",
    "def getpair(experience):\n",
    "    f = flatten(experience['state'])\n",
    "    #f.extend(experience['prev_action'].tolist())\n",
    "    return f, experience['action'][len(experience['action']) - 1]"
   ]
  },
  {
   "cell_type": "code",
   "execution_count": null,
   "metadata": {},
   "outputs": [],
   "source": [
    "with open('/home/victor/ML/Smash/phillip-master/agents/FalconFalconBF/experience/320404a83c3644f6aab384a5668ed19a_102','rb') as f:\n",
    "    experience = pickle.load(f)\n",
    "experience\n",
    "#s, a = getpair(experience)\n",
    "#a"
   ]
  },
  {
   "cell_type": "code",
   "execution_count": null,
   "metadata": {},
   "outputs": [],
   "source": [
    "import os\n",
    "import keras\n",
    "from sklearn import preprocessing\n",
    "for root, dirs, filenames in os.walk('/home/victor/ML/Smash/phillip-master/agents/FalconFalconBF/experience/'):\n",
    "    for f in filenames:\n",
    "        log = open(os.path.join(root, f),'rb')\n",
    "        experience = pickle.load(log)\n",
    "        #print(experience['state'])\n",
    "        s, a = getpair(experience)\n",
    "        x.append(s)\n",
    "        y.append(a)\n",
    "scaler = preprocessing.StandardScaler().fit(x)\n",
    "x = scaler.transform(x)\n",
    "y = keras.utils.to_categorical(y, 32)"
   ]
  },
  {
   "cell_type": "code",
   "execution_count": null,
   "metadata": {},
   "outputs": [],
   "source": [
    "len(y)"
   ]
  },
  {
   "cell_type": "code",
   "execution_count": null,
   "metadata": {
    "collapsed": true
   },
   "outputs": [],
   "source": [
    "#model.save('model')"
   ]
  },
  {
   "cell_type": "code",
   "execution_count": null,
   "metadata": {
    "collapsed": true
   },
   "outputs": [],
   "source": [
    "model.evaluate(x_test, y_test)"
   ]
  },
  {
   "cell_type": "code",
   "execution_count": null,
   "metadata": {
    "collapsed": true
   },
   "outputs": [],
   "source": [
    "from keras.models import load_model\n"
   ]
  },
  {
   "cell_type": "code",
   "execution_count": null,
   "metadata": {
    "collapsed": true
   },
   "outputs": [],
   "source": [
    "m = load_model('model')"
   ]
  },
  {
   "cell_type": "code",
   "execution_count": null,
   "metadata": {},
   "outputs": [],
   "source": [
    "m.evaluate(x_test, y_test)"
   ]
  },
  {
   "cell_type": "code",
   "execution_count": null,
   "metadata": {
    "collapsed": true
   },
   "outputs": [],
   "source": [
    "t = flatten(experience['state'])\n",
    "t = scaler.transform(t)\n",
    "m.predict(np.expand_dims(t, axis=0))"
   ]
  },
  {
   "cell_type": "code",
   "execution_count": null,
   "metadata": {
    "collapsed": true
   },
   "outputs": [],
   "source": [
    "from sklearn.externals import joblib\n",
    "scaler_filename = \"scaler.save\"\n",
    "joblib.dump(scaler, scaler_filename) \n",
    "\n",
    "# And now to load...\n",
    "\n",
    "scaler = joblib.load(scaler_filename) "
   ]
  },
  {
   "cell_type": "code",
   "execution_count": null,
   "metadata": {
    "collapsed": true
   },
   "outputs": [],
   "source": [
    "len(flatten(experience['state']))"
   ]
  },
  {
   "cell_type": "code",
   "execution_count": null,
   "metadata": {},
   "outputs": [],
   "source": [
    "experience['state']"
   ]
  },
  {
   "cell_type": "code",
   "execution_count": null,
   "metadata": {},
   "outputs": [],
   "source": [
    "str(3)"
   ]
  },
  {
   "cell_type": "code",
   "execution_count": 9,
   "metadata": {},
   "outputs": [],
   "source": [
    "import h5py\n",
    "import numpy as np\n",
    "from sklearn.externals import joblib\n",
    "import keras\n",
    "from sklearn import preprocessing\n",
    "\n",
    "# And now| to load...\n",
    "\n",
    "ry = []"
   ]
  },
  {
   "cell_type": "code",
   "execution_count": 10,
   "metadata": {},
   "outputs": [],
   "source": [
    "def getData(scaler_filename = \"scaler.save\"):\n",
    "    h5f = h5py.File('statedata.hdf5', 'r')\n",
    "    x = []\n",
    "    y = []\n",
    "    for k in h5f.keys():\n",
    "        x.append(h5f.get(k)[:-1])\n",
    "        ry.append(int(h5f.get(k)[-1:]))\n",
    "        y.append(int(h5f.get(k)[-1:]))\n",
    "    scaler = preprocessing.StandardScaler().fit(x)\n",
    "    x = scaler.transform(x)\n",
    "    y = keras.utils.to_categorical(y, 32)\n",
    "    \n",
    "    joblib.dump(scaler, scaler_filename) \n",
    "    return x, y"
   ]
  },
  {
   "cell_type": "code",
   "execution_count": 11,
   "metadata": {},
   "outputs": [],
   "source": [
    "scaler_filename = \"scaler.save\"\n",
    "a, b = getData(scaler_filename)"
   ]
  },
  {
   "cell_type": "code",
   "execution_count": 13,
   "metadata": {},
   "outputs": [],
   "source": [
    "s = a[0]\n",
    "for i in range(9):\n",
    "    s = np.append(s, a[i + 1])\n",
    "x = []\n",
    "y = []\n",
    "for i in range(2000 - 20):\n",
    "    x.append(s)\n",
    "    y.append(b[i + 10])\n",
    "    s = np.append(s[10:], a[i + 11])"
   ]
  },
  {
   "cell_type": "code",
   "execution_count": 6,
   "metadata": {},
   "outputs": [
    {
     "data": {
      "text/plain": [
       "array([-1.14290222,  0.        ,  1.12215333, -0.0524464 ,  1.28233482,\n",
       "        0.04564183, -0.82433745,  0.40004824,  0.        , -0.33373833,\n",
       "       -0.21873933, -0.3765295 ,  0.21494066,  0.        ,  0.83233071,\n",
       "        1.92081251,  0.02000362,  0.91062092, -0.02335591, -0.52766169,\n",
       "        0.0584471 ,  0.        ,  0.        , -1.27736133,  0.        ,\n",
       "       -0.95702727,  0.67824402,  1.12937036, -0.0581762 , -0.43128959,\n",
       "       -0.80841894,  0.        , -0.16404891, -0.2160653 , -0.2578281 ,\n",
       "        0.84274407, -0.14493656,  1.42930677, -0.01808614,  0.02193603,\n",
       "       -0.91595711,  0.0183552 , -0.17605688,  0.39717317,  0.        ,\n",
       "        0.        , -1.73132519,  0.        ,  0.        ,  0.        ,\n",
       "        0.        , -0.58328903, -0.58328903,  1.04218225, -0.80398528,\n",
       "        0.        ,  1.12215333,  0.4617831 , -0.45191542,  0.04564183,\n",
       "       -0.66354271, -0.99379348,  0.        , -0.33373833, -0.21873933,\n",
       "       -0.3765295 , -1.06027895,  0.        , -1.20144552,  1.20564522,\n",
       "        1.54768222,  0.50808852, -0.02335591, -0.52766169,  0.0584471 ,\n",
       "        0.        ,  0.        , -1.27736133,  0.        , -0.95702727,\n",
       "        1.09244325, -0.19238142, -0.0581762 ,  0.70619291, -0.5801814 ,\n",
       "        0.        , -0.16404891, -0.2160653 ,  0.98938234, -0.64514801,\n",
       "       -0.14493656, -0.69963987, -0.01808614,  0.02193603,  0.12982875,\n",
       "        0.0183552 , -0.17605688, -0.08565968,  0.        ,  0.        ,\n",
       "       -1.72406901,  0.        ,  0.        ,  0.        ,  0.        ,\n",
       "       -1.18916356, -1.18916356,  1.04218225,  1.33379853,  0.        ,\n",
       "        1.12215333, -2.90537836, -0.5809277 ,  0.04564183, -0.70137677,\n",
       "        0.47340833,  0.        , -0.33373833, -0.21873933, -0.3765295 ,\n",
       "        1.49016027,  0.        ,  0.83233071,  1.90165667,  0.02000362,\n",
       "       -1.82660389, -0.44125274, -0.0723744 ,  0.0584471 ,  0.        ,\n",
       "        0.        , -0.69875023,  0.        ,  1.04490231, -1.49639983,\n",
       "       -0.19238142, -0.0581762 , -0.71566021, -0.80841894,  0.        ,\n",
       "       -0.16404891, -0.2160653 , -0.2578281 , -0.64514801, -0.14493656,\n",
       "       -0.69963987, -0.01808614,  0.02193603,  0.12982875,  0.0183552 ,\n",
       "       -0.17605688,  0.39717317,  0.        ,  0.        , -1.65150718,\n",
       "        0.        ,  0.        ,  0.        ,  0.        , -0.98720539,\n",
       "       -0.98720539,  1.04218225,  1.307728  ,  0.        , -0.89114381,\n",
       "        0.67584018, -0.45191542,  0.04564183, -0.6540842 , -0.47831665,\n",
       "        0.        , -0.33373833, -0.21873933, -0.3765295 , -1.06027895,\n",
       "        0.        , -1.20144552,  0.04562621,  0.02000362,  0.50808852,\n",
       "       -0.02335591, -0.52766169,  0.0584471 ,  0.        ,  0.        ,\n",
       "        1.81459173,  0.        ,  1.04490231,  0.35310636,  0.01058213,\n",
       "       -0.0581762 , -0.86800162, -0.88449812,  0.        , -0.16404891,\n",
       "       -0.2160653 , -0.2578281 ,  0.84274407, -0.14493656,  1.42930677,\n",
       "        2.03423554,  0.02193603,  1.94457481,  0.0183552 , -0.17605688,\n",
       "        0.39717317,  0.        ,  0.        , -0.92588891,  0.        ,\n",
       "        0.        ,  0.        ,  0.        , -0.78524721, -0.78524721,\n",
       "        1.04218225,  1.307728  ,  0.        , -0.89114381,  0.67584018,\n",
       "       -0.45191542,  0.04564183, -0.6540842 , -0.33110744,  0.        ,\n",
       "       -0.33373833, -0.21873933, -0.3765295 , -1.06027895,  0.        ,\n",
       "       -1.20144552,  0.04562621,  0.02000362,  0.50808852, -0.02335591,\n",
       "       -0.52766169,  0.0584471 ,  0.        ,  0.        ,  1.81459173,\n",
       "        0.        ,  1.04490231,  0.43403235,  0.18478789, -0.0581762 ,\n",
       "       -0.45160177, -0.80841894,  0.        , -0.16404891, -0.2160653 ,\n",
       "       -0.2578281 ,  0.84274407, -0.14493656,  1.42930677,  2.0132935 ,\n",
       "        0.02193603,  1.67800195,  0.0183552 , -0.17605688,  0.39717317,\n",
       "        0.        ,  0.        , -0.92572766,  0.        ,  0.        ,\n",
       "        0.        ,  0.        , -0.28035176, -0.28035176,  1.04218225,\n",
       "        1.307728  ,  0.        , -0.89114381,  0.67584018, -0.45191542,\n",
       "        0.04564183, -0.6540842 , -0.18389822,  0.        , -0.33373833,\n",
       "       -0.21873933, -0.3765295 , -1.06027895,  0.        , -1.20144552,\n",
       "        0.04562621,  0.02000362,  0.50808852, -0.02335591, -0.52766169,\n",
       "        0.0584471 ,  0.        ,  0.        ,  1.81459173,  0.        ,\n",
       "        1.04490231,  0.51412617,  0.3302359 , -0.0581762 , -0.45160177,\n",
       "       -0.65626058,  0.        , -0.16404891, -0.2160653 , -0.2578281 ,\n",
       "        0.84274407, -0.14493656,  1.42930677,  1.99235147,  0.02193603,\n",
       "        1.41142908,  0.0183552 , -0.17605688,  0.39717317,  0.        ,\n",
       "        0.        , -0.92556641,  0.        ,  0.        ,  0.        ,\n",
       "        0.        ,  1.73923003,  1.73923003,  1.04218225,  1.307728  ,\n",
       "        0.        , -0.89114381,  0.67584018, -0.45191542,  0.04564183,\n",
       "       -0.6540842 , -0.03668901,  0.        , -0.33373833, -0.21873933,\n",
       "       -0.3765295 , -1.06027895,  0.        , -1.20144552,  0.04562621,\n",
       "        0.02000362,  0.50808852, -0.02335591, -0.52766169,  0.0584471 ,\n",
       "        0.        ,  0.        ,  1.81459173,  0.        ,  1.04490231,\n",
       "        0.59338788,  0.44692609, -0.0581762 , -0.45160177, -0.50410223,\n",
       "        0.        , -0.16404891, -0.2160653 , -0.2578281 ,  0.84274407,\n",
       "       -0.14493656,  1.42930677,  1.97140943,  0.02193603,  1.14485622,\n",
       "        0.0183552 , -0.17605688,  0.39717317,  0.        ,  0.        ,\n",
       "       -0.92540517,  0.        ,  0.        ,  0.        ,  0.        ,\n",
       "        1.73923003,  1.73923003,  1.04218225,  1.307728  ,  0.        ,\n",
       "       -0.89114381,  0.67584018, -0.45191542,  0.04564183, -0.6540842 ,\n",
       "        0.11052027,  0.        , -0.33373833, -0.21873933, -0.3765295 ,\n",
       "       -1.06027895,  0.        , -1.20144552,  0.04562621,  0.02000362,\n",
       "        0.50808852, -0.02335591, -0.52766169,  0.0584471 ,  0.        ,\n",
       "        0.        ,  1.81459173,  0.        ,  1.04490231,  0.67181742,\n",
       "        0.53485849, -0.0581762 , -0.45160177, -0.35194387,  0.        ,\n",
       "       -0.16404891, -0.2160653 , -0.2578281 ,  0.84274407, -0.14493656,\n",
       "        1.42930677,  1.95046739,  0.02193603,  0.87828336,  0.0183552 ,\n",
       "       -0.17605688,  0.39717317,  0.        ,  0.        , -0.92524392,\n",
       "        0.        ,  0.        ,  0.        ,  0.        ,  1.73923003,\n",
       "        1.73923003,  1.04218225,  1.307728  ,  0.        , -0.89114381,\n",
       "        0.67584018, -0.45191542,  0.04564183, -0.6540842 ,  0.25772962,\n",
       "        0.        , -0.33373833, -0.21873933, -0.3765295 , -1.06027895,\n",
       "        0.        , -1.20144552,  0.04562621,  0.02000362,  0.50808852,\n",
       "       -0.02335591, -0.52766169,  0.0584471 ,  0.        ,  0.        ,\n",
       "        1.81459173,  0.        ,  1.04490231,  0.7494148 ,  0.59403318,\n",
       "       -0.0581762 , -0.45160177, -0.19978551,  0.        , -0.16404891,\n",
       "       -0.2160653 , -0.2578281 ,  0.84274407, -0.14493656,  1.42930677,\n",
       "        1.92952535,  0.02193603,  0.6117105 ,  0.0183552 , -0.17605688,\n",
       "        0.39717317,  0.        ,  0.        , -0.92508267,  0.        ,\n",
       "        0.        ,  0.        ,  0.        ,  1.73923003,  1.73923003,\n",
       "        1.04218225,  1.307728  ,  0.        , -0.89114381,  0.67584018,\n",
       "       -0.45191542,  0.04564183, -0.6540842 ,  0.40493898,  0.        ,\n",
       "       -0.33373833, -0.21873933, -0.3765295 , -1.06027895,  0.        ,\n",
       "       -1.20144552,  0.04562621,  0.02000362,  0.50808852, -0.02335591,\n",
       "       -0.52766169,  0.0584471 ,  0.        ,  0.        ,  1.81459173,\n",
       "        0.        ,  1.04490231,  0.82618001,  0.62445008, -0.0581762 ,\n",
       "       -0.45160177, -0.04762715,  0.        , -0.16404891, -0.2160653 ,\n",
       "       -0.2578281 ,  0.84274407, -0.14493656,  1.42930677,  1.90858332,\n",
       "        0.02193603,  0.34513764,  0.0183552 , -0.17605688,  0.39717317,\n",
       "        0.        ,  0.        , -0.92492142,  0.        ,  0.        ,\n",
       "        0.        ,  0.        ,  1.73923003,  1.73923003,  1.04218225])"
      ]
     },
     "execution_count": 6,
     "metadata": {},
     "output_type": "execute_result"
    }
   ],
   "source": [
    "x[0]"
   ]
  },
  {
   "cell_type": "code",
   "execution_count": null,
   "metadata": {},
   "outputs": [],
   "source": [
    "scaler = joblib.load(scaler_filename) "
   ]
  },
  {
   "cell_type": "code",
   "execution_count": null,
   "metadata": {
    "collapsed": true
   },
   "outputs": [],
   "source": [
    "from keras.models import Sequential\n",
    "from keras.layers import Dense, Activation, Dropout\n",
    "from keras import regularizers\n",
    "from keras.optimizers import SGD\n",
    "model = Sequential([\n",
    "    Dense(128, input_shape=(len(x[0]),), kernel_initializer='random_uniform'),\n",
    "    Activation('relu'),\n",
    "    Dropout(0.3),\n",
    "    Dense(128, kernel_initializer='random_uniform'),\n",
    "    Activation('relu'),\n",
    "    Dropout(0.3),\n",
    "    Dense(128, kernel_initializer='random_uniform'),\n",
    "    Activation('relu'),\n",
    "    Dropout(0.3),\n",
    "    Dense(128, kernel_initializer='random_uniform'),\n",
    "    Activation('relu'),\n",
    "    Dropout(0.3),\n",
    "    Dense(128, kernel_initializer='random_uniform'),\n",
    "    Activation('relu'),\n",
    "    Dropout(0.3),\n",
    "    Dense(32, kernel_initializer='random_uniform'),\n",
    "    Activation('softmax'),\n",
    "])\n",
    "model.compile(optimizer=keras.optimizers.Adam(),\n",
    "              loss='categorical_crossentropy',\n",
    "              metrics=['accuracy'])"
   ]
  },
  {
   "cell_type": "code",
   "execution_count": null,
   "metadata": {
    "scrolled": true
   },
   "outputs": [],
   "source": [
    "np.random.seed(70) \n",
    "x_train = x[:len(x) * 4 // 5]\n",
    "y_train = y[:len(y) * 4 // 5]\n",
    "x_test = x[len(x) * 4 // 5:]\n",
    "y_test = y[len(y) * 4 // 5:]\n",
    "x_train = np.array(x_train).astype('float32')\n",
    "model.fit(x_train, y_train, epochs=200, batch_size=16, validation_data=(x_test, y_test))\n"
   ]
  },
  {
   "cell_type": "code",
   "execution_count": null,
   "metadata": {},
   "outputs": [],
   "source": [
    "from keras.models import load_model\n",
    "model = load_model('model')"
   ]
  },
  {
   "cell_type": "code",
   "execution_count": null,
   "metadata": {},
   "outputs": [],
   "source": [
    "np.argmax(model.predict(np.expand_dims(x[0], axis=0)))"
   ]
  },
  {
   "cell_type": "code",
   "execution_count": null,
   "metadata": {},
   "outputs": [],
   "source": [
    "import matplotlib.pyplot as plt\n",
    "%matplotlib inline\n"
   ]
  },
  {
   "cell_type": "code",
   "execution_count": null,
   "metadata": {},
   "outputs": [],
   "source": [
    "gaussian_numbers = np.random.randn(1000)\n",
    "plt.hist(ry, bins=32)\n",
    "plt.title(\"Gaussian Histogram\")\n",
    "plt.xlabel(\"Value\")\n",
    "plt.ylabel(\"Frequency\")\n",
    "\n",
    "fig = plt.gcf()\n",
    "fig.show()"
   ]
  },
  {
   "cell_type": "code",
   "execution_count": null,
   "metadata": {},
   "outputs": [],
   "source": [
    "import tensorflow as tf\n",
    "graph = tf.Graph()\n",
    "graph.finalize()\n",
    "tf_config = dict(\n",
    "        allow_soft_placement=True,\n",
    "        #log_device_placement=True,\n",
    "      )\n",
    "sess = tf.Session(\n",
    "        graph=graph,\n",
    "        config=tf.ConfigProto(**tf_config),\n",
    "      ) \n",
    "#First let's load meta graph and restore weights\n",
    "saver = tf.train.import_meta_graph('snapshot')"
   ]
  },
  {
   "cell_type": "code",
   "execution_count": null,
   "metadata": {
    "collapsed": true
   },
   "outputs": [],
   "source": [
    "variables = tf.global_variables()\n",
    "saver = tf.train.Saver(variables)"
   ]
  },
  {
   "cell_type": "code",
   "execution_count": null,
   "metadata": {},
   "outputs": [],
   "source": [
    "saver.restore(sess, 'snapshot')"
   ]
  },
  {
   "cell_type": "code",
   "execution_count": null,
   "metadata": {
    "collapsed": true
   },
   "outputs": [],
   "source": []
  }
 ],
 "metadata": {
  "kernelspec": {
   "display_name": "Python 3",
   "language": "python",
   "name": "python3"
  },
  "language_info": {
   "codemirror_mode": {
    "name": "ipython",
    "version": 3
   },
   "file_extension": ".py",
   "mimetype": "text/x-python",
   "name": "python",
   "nbconvert_exporter": "python",
   "pygments_lexer": "ipython3",
   "version": "3.6.1"
  }
 },
 "nbformat": 4,
 "nbformat_minor": 2
}
