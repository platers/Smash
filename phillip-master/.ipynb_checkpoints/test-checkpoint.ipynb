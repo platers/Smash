{
 "cells": [
  {
   "cell_type": "code",
   "execution_count": null,
   "metadata": {
    "collapsed": true
   },
   "outputs": [],
   "source": [
    "import pickle"
   ]
  },
  {
   "cell_type": "code",
   "execution_count": null,
   "metadata": {
    "collapsed": true
   },
   "outputs": [],
   "source": [
    "x = []\n",
    "y = []"
   ]
  },
  {
   "cell_type": "code",
   "execution_count": null,
   "metadata": {
    "collapsed": true
   },
   "outputs": [],
   "source": [
    "import numpy as np\n",
    "def flatten(d):    \n",
    "    res = []  # Result list\n",
    "    if isinstance(d, dict):\n",
    "        for key, val in d.items():\n",
    "            if key == 'controller' or key == 'action_counter':\n",
    "                pass\n",
    "            res.extend(flatten(val))\n",
    "    elif isinstance(d, list):\n",
    "        for i in d:\n",
    "            if isinstance(i, dict):\n",
    "                res.extend(flatten(i))\n",
    "            else:\n",
    "                res.extend(i)\n",
    "    elif isinstance(d, np.ndarray):\n",
    "        d = d.tolist()     \n",
    "        for i in d:\n",
    "            if isinstance(i, dict):\n",
    "                res.extend(flatten(i))\n",
    "            else:\n",
    "                res.append(i)\n",
    "    else:\n",
    "        raise TypeError(\"Undefined type for flatten: %s\"%type(d))\n",
    "\n",
    "    return res\n",
    "\n",
    "def getpair(experience):\n",
    "    f = flatten(experience['state'])\n",
    "    #f.extend(experience['prev_action'].tolist())\n",
    "    return f, experience['action'][len(experience['action']) - 1]"
   ]
  },
  {
   "cell_type": "code",
   "execution_count": null,
   "metadata": {},
   "outputs": [],
   "source": [
    "with open('/home/victor/ML/Smash/phillip-master/agents/FalconFalconBF/experience/320404a83c3644f6aab384a5668ed19a_102','rb') as f:\n",
    "    experience = pickle.load(f)\n",
    "experience\n",
    "#s, a = getpair(experience)\n",
    "#a"
   ]
  },
  {
   "cell_type": "code",
   "execution_count": null,
   "metadata": {},
   "outputs": [],
   "source": [
    "import os\n",
    "import keras\n",
    "from sklearn import preprocessing\n",
    "for root, dirs, filenames in os.walk('/home/victor/ML/Smash/phillip-master/agents/FalconFalconBF/experience/'):\n",
    "    for f in filenames:\n",
    "        log = open(os.path.join(root, f),'rb')\n",
    "        experience = pickle.load(log)\n",
    "        #print(experience['state'])\n",
    "        s, a = getpair(experience)\n",
    "        x.append(s)\n",
    "        y.append(a)\n",
    "scaler = preprocessing.StandardScaler().fit(x)\n",
    "x = scaler.transform(x)\n",
    "y = keras.utils.to_categorical(y, 32)"
   ]
  },
  {
   "cell_type": "code",
   "execution_count": null,
   "metadata": {},
   "outputs": [],
   "source": [
    "len(y)"
   ]
  },
  {
   "cell_type": "code",
   "execution_count": null,
   "metadata": {
    "collapsed": true
   },
   "outputs": [],
   "source": [
    "#model.save('model')"
   ]
  },
  {
   "cell_type": "code",
   "execution_count": null,
   "metadata": {
    "collapsed": true
   },
   "outputs": [],
   "source": [
    "model.evaluate(x_test, y_test)"
   ]
  },
  {
   "cell_type": "code",
   "execution_count": null,
   "metadata": {
    "collapsed": true
   },
   "outputs": [],
   "source": [
    "from keras.models import load_model\n"
   ]
  },
  {
   "cell_type": "code",
   "execution_count": null,
   "metadata": {
    "collapsed": true
   },
   "outputs": [],
   "source": [
    "m = load_model('model')"
   ]
  },
  {
   "cell_type": "code",
   "execution_count": null,
   "metadata": {},
   "outputs": [],
   "source": [
    "m.evaluate(x_test, y_test)"
   ]
  },
  {
   "cell_type": "code",
   "execution_count": null,
   "metadata": {
    "collapsed": true
   },
   "outputs": [],
   "source": [
    "t = flatten(experience['state'])\n",
    "t = scaler.transform(t)\n",
    "m.predict(np.expand_dims(t, axis=0))"
   ]
  },
  {
   "cell_type": "code",
   "execution_count": null,
   "metadata": {
    "collapsed": true
   },
   "outputs": [],
   "source": [
    "from sklearn.externals import joblib\n",
    "scaler_filename = \"scaler.save\"\n",
    "joblib.dump(scaler, scaler_filename) \n",
    "\n",
    "# And now to load...\n",
    "\n",
    "scaler = joblib.load(scaler_filename) "
   ]
  },
  {
   "cell_type": "code",
   "execution_count": null,
   "metadata": {
    "collapsed": true
   },
   "outputs": [],
   "source": [
    "len(flatten(experience['state']))"
   ]
  },
  {
   "cell_type": "code",
   "execution_count": null,
   "metadata": {},
   "outputs": [],
   "source": [
    "experience['state']"
   ]
  },
  {
   "cell_type": "code",
   "execution_count": null,
   "metadata": {},
   "outputs": [],
   "source": [
    "str(3)"
   ]
  },
  {
   "cell_type": "code",
   "execution_count": 1,
   "metadata": {},
   "outputs": [
    {
     "name": "stderr",
     "output_type": "stream",
     "text": [
      "Using TensorFlow backend.\n"
     ]
    }
   ],
   "source": [
    "import h5py\n",
    "import numpy as np\n",
    "from sklearn.externals import joblib\n",
    "import keras\n",
    "from sklearn import preprocessing\n",
    "\n",
    "# And now to load...\n",
    "\n",
    "ry = []"
   ]
  },
  {
   "cell_type": "code",
   "execution_count": 2,
   "metadata": {},
   "outputs": [],
   "source": [
    "def getData(scaler_filename = \"scaler.save\"):\n",
    "    h5f = h5py.File('statedata.hdf5', 'r')\n",
    "    x = []\n",
    "    y = []\n",
    "    for k in h5f.keys():\n",
    "        x.append(h5f.get(k)[:-1])\n",
    "        ry.append(int(h5f.get(k)[-1:]))\n",
    "        y.append(int(h5f.get(k)[-1:]))\n",
    "    scaler = preprocessing.StandardScaler().fit(x)\n",
    "    x = scaler.transform(x)\n",
    "    y = keras.utils.to_categorical(y, 32)\n",
    "    \n",
    "    joblib.dump(scaler, scaler_filename) \n",
    "    return x, y"
   ]
  },
  {
   "cell_type": "code",
   "execution_count": 3,
   "metadata": {},
   "outputs": [],
   "source": [
    "scaler_filename = \"scaler.save\"\n",
    "x, y = getData(scaler_filename)"
   ]
  },
  {
   "cell_type": "code",
   "execution_count": 4,
   "metadata": {},
   "outputs": [
    {
     "data": {
      "text/plain": [
       "19084"
      ]
     },
     "execution_count": 4,
     "metadata": {},
     "output_type": "execute_result"
    }
   ],
   "source": [
    "len(y)"
   ]
  },
  {
   "cell_type": "code",
   "execution_count": 5,
   "metadata": {},
   "outputs": [],
   "source": [
    "scaler = joblib.load(scaler_filename) "
   ]
  },
  {
   "cell_type": "code",
   "execution_count": null,
   "metadata": {
    "collapsed": true
   },
   "outputs": [],
   "source": [
    "from keras.models import Sequential\n",
    "from keras.layers import Dense, Activation, Dropout\n",
    "from keras import regularizers\n",
    "from keras.optimizers import SGD\n",
    "model = Sequential([\n",
    "    Dense(128, input_shape=(len(x[0]),), kernel_initializer='random_uniform'),\n",
    "    Activation('relu'),\n",
    "    Dropout(0.3),\n",
    "    Dense(128, kernel_initializer='random_uniform'),\n",
    "    Activation('relu'),\n",
    "    Dropout(0.3),\n",
    "    Dense(128, kernel_initializer='random_uniform'),\n",
    "    Activation('relu'),\n",
    "    Dropout(0.3),\n",
    "    Dense(32, kernel_initializer='random_uniform'),\n",
    "    Activation('softmax'),\n",
    "])\n",
    "model.compile(optimizer=keras.optimizers.Adadelta(),\n",
    "              loss='categorical_crossentropy',\n",
    "              metrics=['accuracy'])"
   ]
  },
  {
   "cell_type": "code",
   "execution_count": null,
   "metadata": {
    "scrolled": true
   },
   "outputs": [],
   "source": [
    "np.random.seed(70) \n",
    "x_train = x[:len(x) * 4 // 5]\n",
    "y_train = y[:len(y) * 4 // 5]\n",
    "x_test = x[len(x) * 4 // 5:]\n",
    "y_test = y[len(y) * 4 // 5:]\n",
    "x_train = np.array(x_train).astype('float32')\n",
    "model.fit(x_train, y_train, epochs=200, batch_size=16, validation_data=(x_test, y_test))\n"
   ]
  },
  {
   "cell_type": "code",
   "execution_count": 10,
   "metadata": {},
   "outputs": [],
   "source": [
    "from keras.models import load_model\n",
    "model = load_model('model')"
   ]
  },
  {
   "cell_type": "code",
   "execution_count": 12,
   "metadata": {},
   "outputs": [
    {
     "data": {
      "text/plain": [
       "17"
      ]
     },
     "execution_count": 12,
     "metadata": {},
     "output_type": "execute_result"
    }
   ],
   "source": [
    "np.argmax(model.predict(np.expand_dims(x[0], axis=0)))"
   ]
  },
  {
   "cell_type": "code",
   "execution_count": 19,
   "metadata": {},
   "outputs": [],
   "source": [
    "import matplotlib.pyplot as plt\n",
    "%matplotlib inline\n"
   ]
  },
  {
   "cell_type": "code",
   "execution_count": 20,
   "metadata": {},
   "outputs": [
    {
     "name": "stderr",
     "output_type": "stream",
     "text": [
      "/home/victor/anaconda3/lib/python3.6/site-packages/matplotlib/figure.py:403: UserWarning: matplotlib is currently using a non-GUI backend, so cannot show the figure\n",
      "  \"matplotlib is currently using a non-GUI backend, \"\n"
     ]
    },
    {
     "data": {
      "image/png": "[encoded data removed]",
      "text/plain": [
       "<matplotlib.figure.Figure at 0x7f5188761438>"
      ]
     },
     "metadata": {},
     "output_type": "display_data"
    }
   ],
   "source": [
    "gaussian_numbers = np.random.randn(1000)\n",
    "plt.hist(gaussian_numbers)\n",
    "plt.title(\"Gaussian Histogram\")\n",
    "plt.xlabel(\"Value\")\n",
    "plt.ylabel(\"Frequency\")\n",
    "\n",
    "fig = plt.gcf()\n",
    "fig.show()"
   ]
  },
  {
   "cell_type": "code",
   "execution_count": null,
   "metadata": {
    "collapsed": true
   },
   "outputs": [],
   "source": []
  }
 ],
 "metadata": {
  "kernelspec": {
   "display_name": "Python 3",
   "language": "python",
   "name": "python3"
  },
  "language_info": {
   "codemirror_mode": {
    "name": "ipython",
    "version": 3
   },
   "file_extension": ".py",
   "mimetype": "text/x-python",
   "name": "python",
   "nbconvert_exporter": "python",
   "pygments_lexer": "ipython3",
   "version": "3.6.1"
  }
 },
 "nbformat": 4,
 "nbformat_minor": 2
}
